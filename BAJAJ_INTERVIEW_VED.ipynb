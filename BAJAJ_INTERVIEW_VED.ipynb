{
  "nbformat": 4,
  "nbformat_minor": 0,
  "metadata": {
    "colab": {
      "provenance": []
    },
    "kernelspec": {
      "name": "python3",
      "display_name": "Python 3"
    },
    "language_info": {
      "name": "python"
    }
  },
  "cells": [
    {
      "cell_type": "code",
      "execution_count": null,
      "metadata": {
        "colab": {
          "base_uri": "https://localhost:8080/"
        },
        "id": "DPXxdN_qR8L3",
        "outputId": "810129df-b774-4251-e425-95b17178a8b6"
      },
      "outputs": [
        {
          "output_type": "stream",
          "name": "stdout",
          "text": [
            "All required fields are present.\n",
            "appointmentId    object\n",
            "patientId        object\n",
            "firstName        object\n",
            "lastName         object\n",
            "emailId          object\n",
            "phoneNumber      object\n",
            "medicineId       object\n",
            "medicineName     object\n",
            "frequency        object\n",
            "duration          int64\n",
            "durationIn       object\n",
            "instruction      object\n",
            "isActive           bool\n",
            "dtype: object\n",
            "appointmentId    0\n",
            "patientId        0\n",
            "firstName        0\n",
            "medicineId       0\n",
            "medicineName     0\n",
            "frequency        0\n",
            "duration         0\n",
            "durationIn       0\n",
            "instruction      0\n",
            "isActive         0\n",
            "dtype: int64\n",
            "DataFrame Head:\n",
            "  appointmentId  patientId firstName lastName emailId  phoneNumber medicineId  \\\n",
            "0     40d2-9c9f  T6hb630b3       Css                   96686896670     619404   \n",
            "1     40d2-9c9f  T6hb630b3       Css                   96686896670     619804   \n",
            "2      40dbtc9f  T6h33b300    Lokesh                    9496368916     619404   \n",
            "3      40dbtc9f  T6h33b300    Lokesh                    9496368916     619804   \n",
            "4      g3Wt5c9f   TjhB4373     Shila      Das           7787204833     619404   \n",
            "\n",
            "  medicineName frequency  duration durationIn instruction  isActive  \n",
            "0            A     1-0-1        90       DAYS  AFTER MEAL      True  \n",
            "1            B     1-0-1        90       DAYS  AFTER MEAL     False  \n",
            "2            A     1-0-1        90       DAYS  AFTER MEAL      True  \n",
            "3            C     1-0-1        30       DAYS  AFTER MEAL     False  \n",
            "4            B     1-0-1        10       DAYS  AFTER MEAL      True  \n",
            "\n",
            "Total Active Duration per Patient:\n",
            "  patientId  totalActiveDuration\n",
            "0   04Re22d                  180\n",
            "1   6df4R5b                   90\n",
            "2   Pdh97S6                  360\n",
            "3   R53Et5W                  180\n",
            "4   T4E7Ge6                  270\n",
            "\n",
            "Most Common Medicines:\n",
            "  medicineName  count\n",
            "0            A     17\n",
            "1            D     17\n",
            "2            C     13\n",
            "3            B     12\n",
            "4            E      6\n",
            "\n",
            "Average Duration of Medicines:\n",
            "  medicineName  averageDuration\n",
            "0            A        88.235294\n",
            "1            B        83.333333\n",
            "2            C        85.384615\n",
            "3            D        90.000000\n",
            "4            E        90.000000\n"
          ]
        }
      ],
      "source": [
        "import pandas as pd\n",
        "import json\n",
        "\n",
        "# Load the JSON file\n",
        "with open('/content/DataEngineeringQ2.json', 'r') as file:\n",
        "    data = json.load(file)\n",
        "\n",
        "# Create an empty list to store the flattened data\n",
        "flattened_data = []\n",
        "\n",
        "# Iterate through each record in the JSON data\n",
        "for record in data:\n",
        "    patient_details = record.get('patientDetails', {})\n",
        "    consultation_data = record.get('consultationData', {})\n",
        "    medicines = consultation_data.get('medicines', [])\n",
        "\n",
        "    # For each medicine in the consultationData, create a flattened record\n",
        "    for medicine in medicines:\n",
        "        flattened_record = {\n",
        "            'appointmentId': record.get('appointmentId'),\n",
        "            'patientId': patient_details.get('_id'),\n",
        "            'firstName': patient_details.get('firstName'),\n",
        "            'lastName': patient_details.get('lastName'),\n",
        "            'emailId': patient_details.get('emailId'),\n",
        "            'phoneNumber': record.get('phoneNumber'),\n",
        "            'medicineId': medicine.get('medicineId'),\n",
        "            'medicineName': medicine.get('medicineName'),\n",
        "            'frequency': medicine.get('frequency'),\n",
        "            'duration': medicine.get('duration'),\n",
        "            'durationIn': medicine.get('durationIn'),\n",
        "            'instruction': medicine.get('instruction'),\n",
        "            'isActive': medicine.get('isActive')\n",
        "        }\n",
        "        flattened_data.append(flattened_record)\n",
        "\n",
        "# Create a DataFrame from the flattened data\n",
        "df = pd.DataFrame(flattened_data)\n",
        "\n",
        "# Convert necessary columns to appropriate data types\n",
        "df['duration'] = pd.to_numeric(df['duration'])\n",
        "df['isActive'] = df['isActive'].astype(bool)\n",
        "\n",
        "# Aggregation: Total duration of active medicines for each patient\n",
        "active_medicines = df[df['isActive']]\n",
        "agg_duration = active_medicines.groupby('patientId')['duration'].sum().reset_index()\n",
        "agg_duration.columns = ['patientId', 'totalActiveDuration']\n",
        "\n",
        "# Validate that all necessary fields are present\n",
        "required_fields = ['appointmentId', 'patientId', 'firstName', 'medicineId', 'medicineName', 'frequency', 'duration', 'durationIn', 'instruction', 'isActive']\n",
        "missing_fields = [field for field in required_fields if field not in df.columns]\n",
        "\n",
        "if not missing_fields:\n",
        "    print(\"All required fields are present.\")\n",
        "else:\n",
        "    print(f\"Missing fields: {missing_fields}\")\n",
        "\n",
        "# Validate the data types of the columns\n",
        "print(df.dtypes)\n",
        "\n",
        "# Check for any null values in critical columns\n",
        "print(df[required_fields].isnull().sum())\n",
        "\n",
        "# Insights: Most common medicine prescribed\n",
        "common_medicine = df['medicineName'].value_counts().reset_index()\n",
        "common_medicine.columns = ['medicineName', 'count']\n",
        "\n",
        "# Insights: Average duration of medicines prescribed\n",
        "avg_duration = df.groupby('medicineName')['duration'].mean().reset_index()\n",
        "avg_duration.columns = ['medicineName', 'averageDuration']\n",
        "\n",
        "# Print results\n",
        "print(\"DataFrame Head:\")\n",
        "print(df.head())\n",
        "print(\"\\nTotal Active Duration per Patient:\")\n",
        "print(agg_duration.head())\n",
        "print(\"\\nMost Common Medicines:\")\n",
        "print(common_medicine.head())\n",
        "print(\"\\nAverage Duration of Medicines:\")\n",
        "print(avg_duration.head())\n"
      ]
    },
    {
      "cell_type": "code",
      "source": [
        "from google.colab import drive\n",
        "drive.mount('/content/drive')"
      ],
      "metadata": {
        "colab": {
          "base_uri": "https://localhost:8080/"
        },
        "id": "uHJYxbA3Vq82",
        "outputId": "7da0e124-7b4d-4f34-dbf9-33c297e72841"
      },
      "execution_count": null,
      "outputs": [
        {
          "output_type": "stream",
          "name": "stdout",
          "text": [
            "Mounted at /content/drive\n"
          ]
        }
      ]
    },
    {
      "cell_type": "code",
      "source": [],
      "metadata": {
        "id": "fp8airB5Ven5"
      },
      "execution_count": null,
      "outputs": []
    },
    {
      "cell_type": "code",
      "source": [
        "# Assuming data is the loaded JSON data\n",
        "\n",
        "patient_details_data = []\n",
        "\n",
        "# Iterate through each record in the JSON data to extract patient details\n",
        "for record in data:\n",
        "    patient_details = record.get('patientDetails', {})\n",
        "    flattened_record = {\n",
        "        'patientId': patient_details.get('_id'),\n",
        "        'firstName': patient_details.get('firstName', ''),\n",
        "        'lastName': patient_details.get('lastName', ''),\n",
        "        'birthDate': patient_details.get('birthDate', '')\n",
        "    }\n",
        "    patient_details_data.append(flattened_record)\n"
      ],
      "metadata": {
        "id": "NjOSvHcZSpav"
      },
      "execution_count": null,
      "outputs": []
    },
    {
      "cell_type": "markdown",
      "source": [],
      "metadata": {
        "id": "uCGo0fF1cCer"
      }
    },
    {
      "cell_type": "code",
      "source": [
        "def calculate_missing_percentage(df, column):\n",
        "    total = len(df)\n",
        "    missing = df[column].apply(lambda x: x == '' or pd.isnull(x)).sum()\n",
        "    return round((missing / total) * 100, 2)\n",
        "\n",
        "def get_missing_percentages(patient_details_data):\n",
        "    # Create a DataFrame from the patient details data\n",
        "    patient_df = pd.DataFrame(patient_details_data)\n",
        "\n",
        "    # Calculate the percentage of missing values for firstName, lastName, and DOB\n",
        "    missing_percentages = {\n",
        "        'firstName': calculate_missing_percentage(patient_df, 'firstName'),\n",
        "        'lastName': calculate_missing_percentage(patient_df, 'lastName'),\n",
        "        'birthDate': calculate_missing_percentage(patient_df, 'birthDate')\n",
        "    }\n",
        "\n",
        "    return missing_percentages\n",
        "\n",
        "# Assuming patient_details_data is already defined\n",
        "missing_percentages = get_missing_percentages(patient_details_data)\n",
        "\n",
        "# Print the missing percentages\n",
        "print(\"Percentage of missing values:\")\n",
        "for column, percentage in missing_percentages.items():\n",
        "    print(f\"{column}: {percentage}%\")\n"
      ],
      "metadata": {
        "colab": {
          "base_uri": "https://localhost:8080/"
        },
        "id": "GnJv1FFVSqaW",
        "outputId": "08e04338-c1ad-46d7-b443-4a0b3715e9a4"
      },
      "execution_count": null,
      "outputs": [
        {
          "output_type": "stream",
          "name": "stdout",
          "text": [
            "Percentage of missing values:\n",
            "firstName: 0.0%\n",
            "lastName: 70.97%\n",
            "birthDate: 32.26%\n"
          ]
        }
      ]
    },
    {
      "cell_type": "code",
      "source": [
        "from collections import Counter\n",
        "\n",
        "# Extract the gender data, ensuring we handle missing keys\n",
        "gender_data = [entry['patientDetails'].get('gender', '') for entry in data]\n",
        "\n",
        "# Calculate the mode of the gender column\n",
        "mode_gender = Counter(gender_data).most_common(1)[0][0]\n",
        "\n",
        "# Impute missing values with the mode\n",
        "for entry in data:\n",
        "    if 'gender' not in entry['patientDetails'] or entry['patientDetails']['gender'] == '':\n",
        "        entry['patientDetails']['gender'] = mode_gender\n",
        "\n",
        "# Calculate the percentage of female gender\n",
        "total_entries = len(data)\n",
        "female_count = sum(1 for entry in data if entry['patientDetails'].get('gender') == 'F')\n",
        "female_percentage = (female_count / total_entries) * 100\n",
        "\n",
        "# Round off to 2 decimal places\n",
        "female_percentage = round(female_percentage, 2)\n",
        "\n",
        "female_percentage\n",
        "\n"
      ],
      "metadata": {
        "colab": {
          "base_uri": "https://localhost:8080/"
        },
        "id": "KcsSu3G3Vfsc",
        "outputId": "0b11c137-8ea8-4132-b44d-979290f94a80"
      },
      "execution_count": null,
      "outputs": [
        {
          "output_type": "execute_result",
          "data": {
            "text/plain": [
              "32.26"
            ]
          },
          "metadata": {},
          "execution_count": 7
        }
      ]
    },
    {
      "cell_type": "code",
      "source": [
        "from datetime import datetime\n",
        "\n",
        "# Function to calculate age from birth date\n",
        "def calculate_age(birth_date):\n",
        "    if birth_date is None or birth_date == '':\n",
        "        return None\n",
        "    birth_date = datetime.strptime(birth_date, '%Y-%m-%dT%H:%M:%S.%fZ')\n",
        "    today = datetime.today()\n",
        "    return today.year - birth_date.year - ((today.month, today.day) < (birth_date.month, birth_date.day))\n",
        "\n",
        "# Function to categorize age into age groups\n",
        "def categorize_age(age):\n",
        "    if age is None:\n",
        "        return 'Unknown'\n",
        "    if age <= 12:\n",
        "        return 'Child'\n",
        "    elif age <= 19:\n",
        "        return 'Teen'\n",
        "    elif age <= 59:\n",
        "        return 'Adult'\n",
        "    else:\n",
        "        return 'Senior'\n",
        "\n",
        "# Add age and ageGroup to each entry\n",
        "for entry in data:\n",
        "    birth_date = entry['patientDetails'].get('birthDate', None)\n",
        "    age = calculate_age(birth_date)\n",
        "    entry['patientDetails']['age'] = age\n",
        "    entry['patientDetails']['ageGroup'] = categorize_age(age)\n",
        "\n",
        "# Calculate the count of adults\n",
        "adult_count = sum(1 for entry in data if entry['patientDetails'].get('ageGroup') == 'Adult')\n",
        "\n",
        "adult_count\n",
        "\n"
      ],
      "metadata": {
        "colab": {
          "base_uri": "https://localhost:8080/"
        },
        "id": "yn7h_neYV3ZB",
        "outputId": "009cb64b-7494-4026-c807-090b5f3fa24d"
      },
      "execution_count": null,
      "outputs": [
        {
          "output_type": "execute_result",
          "data": {
            "text/plain": [
              "21"
            ]
          },
          "metadata": {},
          "execution_count": 13
        }
      ]
    },
    {
      "cell_type": "code",
      "source": [
        "# Count the number of medicines prescribed per appointment\n",
        "medicine_counts = df.groupby('appointmentId')['medicineId'].count().reset_index()\n",
        "medicine_counts.columns = ['appointmentId', 'medicineCount']\n",
        "\n",
        "# Calculate the average number of medicines prescribed\n",
        "average_medicines = medicine_counts['medicineCount'].mean()\n",
        "\n",
        "# Round the result to two decimal places\n",
        "average_medicines_rounded = round(average_medicines, 2)\n",
        "\n",
        "print(f\"Average number of medicines prescribed: {average_medicines_rounded}\")"
      ],
      "metadata": {
        "colab": {
          "base_uri": "https://localhost:8080/"
        },
        "id": "KT5p0HkXWhEb",
        "outputId": "38dfbe5c-d48f-4e64-cc8b-f37afcff26b5"
      },
      "execution_count": null,
      "outputs": [
        {
          "output_type": "stream",
          "name": "stdout",
          "text": [
            "Average number of medicines prescribed: 2.64\n"
          ]
        }
      ]
    },
    {
      "cell_type": "code",
      "source": [
        "# Count the occurrences of each medicine name\n",
        "medicine_counts = df['medicineName'].value_counts()\n",
        "\n",
        "# Check if there are at least 3 different medicines\n",
        "if len(medicine_counts) >= 3:\n",
        "    # Get the 3rd most frequent medicine\n",
        "    third_most_frequent = medicine_counts.index[2]\n",
        "    third_most_frequent_count = medicine_counts.iloc[2]\n",
        "\n",
        "    print(f\"3rd Most Frequent Medicine Name: {third_most_frequent}\")\n",
        "    print(f\"Frequency: {third_most_frequent_count}\")\n",
        "else:\n",
        "    print(\"There are fewer than 3 different medicines in the dataset.\")"
      ],
      "metadata": {
        "colab": {
          "base_uri": "https://localhost:8080/"
        },
        "id": "LYoZlAdlZ1WR",
        "outputId": "10bd9cb5-cdbb-475e-f3c0-4b19a373a324"
      },
      "execution_count": null,
      "outputs": [
        {
          "output_type": "stream",
          "name": "stdout",
          "text": [
            "3rd Most Frequent Medicine Name: C\n",
            "Frequency: 13\n"
          ]
        }
      ]
    },
    {
      "cell_type": "code",
      "source": [
        "# Count the total number of medicines\n",
        "total_medicines = len(df)\n",
        "\n",
        "# Count the number of active and inactive medicines\n",
        "active_medicines_count = df['isActive'].sum()  # Since isActive is a boolean, summing gives count of True\n",
        "inactive_medicines_count = total_medicines - active_medicines_count\n",
        "\n",
        "# Calculate the percentage distribution\n",
        "percent_active = (active_medicines_count / total_medicines) * 100\n",
        "percent_inactive = (inactive_medicines_count / total_medicines) * 100\n",
        "\n",
        "# Round the percentages to two decimal places\n",
        "percent_active_rounded = round(percent_active, 2)\n",
        "percent_inactive_rounded = round(percent_inactive, 2)\n",
        "\n",
        "print(f\"Percentage of Active Medicines: {percent_active_rounded}%\")\n",
        "print(f\"Percentage of Inactive Medicines: {percent_inactive_rounded}%\")"
      ],
      "metadata": {
        "colab": {
          "base_uri": "https://localhost:8080/"
        },
        "id": "pZ17CLeyYkeP",
        "outputId": "4eb853bd-fd95-435a-bff8-15003923fdbe"
      },
      "execution_count": null,
      "outputs": [
        {
          "output_type": "stream",
          "name": "stdout",
          "text": [
            "Percentage of Active Medicines: 69.7%\n",
            "Percentage of Inactive Medicines: 30.3%\n"
          ]
        }
      ]
    },
    {
      "cell_type": "code",
      "source": [
        "import pandas as pd\n",
        "\n",
        "# Assuming df already contains the loaded data and necessary columns\n",
        "\n",
        "# Function to validate Indian phone numbers\n",
        "def is_valid_indian_phone_number(phone_number):\n",
        "    # Remove any spaces and hyphens for uniformity\n",
        "    phone_number = phone_number.replace(' ', '').replace('-', '')\n",
        "\n",
        "    # Check if the phone number starts with '+91 ' or '91'\n",
        "    if phone_number.startswith('+91'):\n",
        "        phone_number = phone_number[3:]  # Remove '+91 '\n",
        "    elif phone_number.startswith('91'):\n",
        "        phone_number = phone_number[2:]  # Remove '91'\n",
        "    else:\n",
        "        return False\n",
        "\n",
        "    # Check if the remaining part is a 10-digit number\n",
        "    if len(phone_number) != 10 or not phone_number.isdigit():\n",
        "        return False\n",
        "\n",
        "    # Check if the number is within the valid range\n",
        "    if 6000000000 <= int(phone_number) <= 9999999999:\n",
        "        return True\n",
        "    else:\n",
        "        return False\n",
        "\n",
        "# Apply function to create isValidMobile column\n",
        "df['isValidMobile'] = df['phoneNumber'].apply(is_valid_indian_phone_number)\n",
        "\n",
        "# Count number of valid phone numbers\n",
        "valid_phone_count = df['isValidMobile'].sum()\n",
        "\n",
        "# Output the number of valid phone numbers found in the dataset\n",
        "print(valid_phone_count)"
      ],
      "metadata": {
        "id": "AM9zuXjIZHH7"
      },
      "execution_count": null,
      "outputs": []
    },
    {
      "cell_type": "code",
      "source": [
        "import pandas as pd\n",
        "from scipy.stats import pearsonr\n",
        "\n",
        "# Assuming df already contains the loaded data and necessary columns\n",
        "# Example placeholder for df creation\n",
        "data = {\n",
        "    'consultationData': [\n",
        "        {'medicines': [{'medicineName': 'A'}, {'medicineName': 'B'}]},\n",
        "        {'medicines': [{'medicineName': 'C'}]},\n",
        "        {'medicines': []}\n",
        "    ],\n",
        "    'birthDate': ['1990-01-01', '1985-05-15', '1970-12-25']\n",
        "}\n",
        "df = pd.DataFrame(data)\n",
        "\n",
        "# Function to extract number of prescribed medicines\n",
        "def count_prescribed_medicines(consultation_data):\n",
        "    if 'medicines' in consultation_data:\n",
        "        return len(consultation_data['medicines'])\n",
        "    else:\n",
        "        return 0\n",
        "\n",
        "# Apply function to count prescribed medicines for each row\n",
        "df['prescribedMedicines'] = df['consultationData'].apply(count_prescribed_medicines)\n",
        "\n",
        "# Function to calculate age from birthDate\n",
        "def calculate_age(birth_date):\n",
        "    # Implement logic to calculate age from birthDate\n",
        "    # Example logic (assuming birth_date is in 'yyyy-mm-dd' format):\n",
        "    # Replace this with actual age calculation based on current date\n",
        "    return 2024 - int(birth_date[:4])\n",
        "\n",
        "# Apply function to calculate age for each row\n",
        "df['age'] = df['birthDate'].apply(calculate_age)\n",
        "\n",
        "# Calculate Pearson correlation coefficient\n",
        "pearson_corr, _ = pearsonr(df['prescribedMedicines'], df['age'])\n",
        "\n",
        "# Round off to 2 decimal places\n",
        "pearson_corr_rounded = round(pearson_corr, 2)\n",
        "\n",
        "# Output the Pearson correlation coefficient\n",
        "print(pearson_corr_rounded)"
      ],
      "metadata": {
        "id": "FyEf0PENbq4N"
      },
      "execution_count": null,
      "outputs": []
    }
  ]
}